{
 "cells": [
  {
   "cell_type": "code",
   "execution_count": null,
   "id": "b93ff461",
   "metadata": {},
   "outputs": [],
   "source": [
    "import pandas as pd\n",
    "import numpy as np\n",
    "import matplotlib.pyplot as plt\n",
    "import seaborn as sns\n",
    "\n",
    "from sklearn.model_selection import train_test_split\n",
    "from sklearn.linear_model import LogisticRegression\n",
    "from sklearn.preprocessing import LabelEncoder\n",
    "from sklearn.metrics import accuracy_score, confusion_matrix, classification_report\n",
    "\n",
    "# Settings\n",
    "pd.set_option('display.max_columns', None)\n",
    "sns.set(style=\"whitegrid\")\n",
    "\n",
    "# Load dataset\n",
    "df = pd.read_csv('data/Summer-Olympic-medals-1976-to-2008.csv', encoding='latin1')\n",
    "df.head()\n"
   ]
  },
  {
   "cell_type": "markdown",
   "id": "340f259e",
   "metadata": {},
   "source": [
    "## 🧹 2. Data Cleaning"
   ]
  },
  {
   "cell_type": "code",
   "execution_count": null,
   "id": "746e868b",
   "metadata": {},
   "outputs": [],
   "source": [
    "# Drop unused columns\n",
    "df.drop(['Event_gender', 'Country_Code'], axis=1, inplace=True)\n",
    "\n",
    "# Drop fully empty rows\n",
    "df.dropna(how='all', inplace=True)\n",
    "\n",
    "# Convert year to int\n",
    "df['Year'] = df['Year'].astype(int)\n",
    "\n",
    "# Drop rows with missing values\n",
    "df.dropna(inplace=True)\n",
    "\n",
    "df.info()\n"
   ]
  },
  {
   "cell_type": "markdown",
   "id": "be02af0a",
   "metadata": {},
   "source": [
    "## 📊 3. Exploratory Data Analysis (EDA)"
   ]
  },
  {
   "cell_type": "code",
   "execution_count": null,
   "id": "4c8ff225",
   "metadata": {},
   "outputs": [],
   "source": [
    "# 3.1 Top 10 Countries by Medal Count\n",
    "medals_by_country = df['Country'].value_counts().head(10)\n",
    "medals_by_country.plot(kind='bar', figsize=(10,6), color='gold')\n",
    "plt.title(\"Top 10 Countries by Total Medals\")\n",
    "plt.xlabel(\"Country\")\n",
    "plt.ylabel(\"Medals\")\n",
    "plt.xticks(rotation=45)\n",
    "plt.show()\n"
   ]
  },
  {
   "cell_type": "code",
   "execution_count": null,
   "id": "b7cf3aeb",
   "metadata": {},
   "outputs": [],
   "source": [
    "# 3.2 Medal Distribution Over Years\n",
    "medals_over_years = df['Year'].value_counts().sort_index()\n",
    "plt.figure(figsize=(10,6))\n",
    "sns.lineplot(x=medals_over_years.index, y=medals_over_years.values, marker='o')\n",
    "plt.title(\"Total Medals Over the Years\")\n",
    "plt.xlabel(\"Year\")\n",
    "plt.ylabel(\"Number of Medals\")\n",
    "plt.grid(True)\n",
    "plt.show()\n"
   ]
  },
  {
   "cell_type": "code",
   "execution_count": null,
   "id": "03f8eebe",
   "metadata": {},
   "outputs": [],
   "source": [
    "# 3.3 Gender Distribution\n",
    "gender_dist = df['Gender'].value_counts()\n",
    "gender_dist.plot.pie(autopct='%1.1f%%', colors=['#ff9999','#66b3ff'], explode=[0.05,0], figsize=(6,6))\n",
    "plt.title(\"Gender Distribution\")\n",
    "plt.ylabel('')\n",
    "plt.show()\n"
   ]
  },
  {
   "cell_type": "code",
   "execution_count": null,
   "id": "64a745ba",
   "metadata": {},
   "outputs": [],
   "source": [
    "# 3.4 Top 10 Athletes\n",
    "top_athletes = df['Athlete'].value_counts().head(10)\n",
    "top_athletes.plot(kind='bar', figsize=(10,6), color='silver')\n",
    "plt.title(\"Top 10 Athletes by Medal Count\")\n",
    "plt.xlabel(\"Athlete\")\n",
    "plt.ylabel(\"Medals\")\n",
    "plt.xticks(rotation=75)\n",
    "plt.show()\n"
   ]
  },
  {
   "cell_type": "markdown",
   "id": "d289dae5",
   "metadata": {},
   "source": [
    "## 🤖 4. Logistic Regression Model"
   ]
  },
  {
   "cell_type": "code",
   "execution_count": null,
   "id": "bdc15864",
   "metadata": {},
   "outputs": [],
   "source": [
    "# Label Encoding for categorical features\n",
    "df_encoded = df.copy()\n",
    "le = LabelEncoder()\n",
    "\n",
    "df_encoded['Country'] = le.fit_transform(df_encoded['Country'])\n",
    "df_encoded['Sport'] = le.fit_transform(df_encoded['Sport'])\n",
    "df_encoded['Gender'] = le.fit_transform(df_encoded['Gender'])\n",
    "df_encoded['Medal'] = df_encoded['Medal'].map({'Gold': 1, 'Silver': 1, 'Bronze': 1})\n",
    "\n",
    "# Features and Target\n",
    "X = df_encoded[['Country', 'Sport', 'Gender']]\n",
    "y = df_encoded['Medal']\n",
    "\n",
    "# Train-test split\n",
    "X_train, X_test, y_train, y_test = train_test_split(X, y, test_size=0.3, random_state=42)\n",
    "\n",
    "# Logistic Regression\n",
    "model = LogisticRegression(max_iter=1000)\n",
    "model.fit(X_train, y_train)\n",
    "\n",
    "# Predictions\n",
    "y_pred = model.predict(X_test)\n",
    "\n",
    "# Evaluation\n",
    "print(\"Accuracy:\", accuracy_score(y_test, y_pred))\n",
    "print(\"Confusion Matrix:\\n\", confusion_matrix(y_test, y_pred))\n",
    "print(\"Classification Report:\\n\", classification_report(y_test, y_pred))\n"
   ]
  },
  {
   "cell_type": "markdown",
   "id": "6438b506",
   "metadata": {},
   "source": [
    "## 📌 5. Conclusion & Observations\n",
    "\n",
    "- **Top Performing Countries**: United States, Russia, China consistently lead in medals.\n",
    "- **Gender Distribution**: Male participation is higher, though female representation is rising.\n",
    "- **Top Athlete**: Michael Phelps stands out with unmatched medal counts.\n",
    "- **Model Prediction**: A basic logistic regression model provides decent accuracy predicting medal wins.\n",
    "\n",
    "---\n",
    "\n",
    "📁 Dataset: Summer Olympics 1976–2008  \n",
    "📈 Powered by Python, pandas, seaborn, and scikit-learn.\n"
   ]
  }
 ],
 "metadata": {},
 "nbformat": 4,
 "nbformat_minor": 5
}
